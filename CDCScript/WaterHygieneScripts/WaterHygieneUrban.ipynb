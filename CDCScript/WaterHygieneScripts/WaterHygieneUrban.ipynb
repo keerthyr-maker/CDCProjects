{
 "cells": [
  {
   "cell_type": "code",
   "execution_count": null,
   "metadata": {},
   "outputs": [],
   "source": [
    "import pandas as pd"
   ]
  },
  {
   "cell_type": "markdown",
   "metadata": {},
   "source": [
    "Reading Data"
   ]
  },
  {
   "cell_type": "code",
   "execution_count": null,
   "metadata": {},
   "outputs": [],
   "source": [
    "data = pd.read_stata(\"TZHR82FL.DTA\")\n",
    "\n",
    "data\n",
    "\n"
   ]
  },
  {
   "cell_type": "markdown",
   "metadata": {},
   "source": [
    "Wrangling and Creating Categories for Visuals"
   ]
  },
  {
   "cell_type": "code",
   "execution_count": null,
   "metadata": {},
   "outputs": [],
   "source": [
    "variables_to_keep = ['hhid','hv024','hv201','hv202','hv235']\n",
    "\n",
    "\n",
    "new_df = data[variables_to_keep]"
   ]
  },
  {
   "cell_type": "code",
   "execution_count": null,
   "metadata": {},
   "outputs": [],
   "source": [
    "new_df[\"Household ID\"] = new_df[\"hhid\"]\n",
    "new_df[\"Region of residence\"] = new_df[\"hv024\"]\n",
    "new_df[\"Source of drinking water\"] = new_df[\"hv201\"]\n",
    "new_df[\"Source of non-drinking water\"] = new_df[\"hv202\"]\n",
    "new_df[\"Location of source for water\"] = new_df[\"hv235\"]\n",
    "\n",
    "\n",
    "new_df = new_df.drop(columns=[\"hhid\",\"hv024\",\"hv201\",\"hv202\",\"hv235\"])\n",
    "new_df = new_df.dropna(subset=[\"Household ID\",\"Source of drinking water\",\"Region of residence\",\"Source of non-drinking water\",\"Location of source for water\"])\n",
    "\n",
    "new_df"
   ]
  },
  {
   "cell_type": "code",
   "execution_count": null,
   "metadata": {},
   "outputs": [],
   "source": [
    "\n",
    "categories = new_df[\"Source of non-drinking water\"].unique().tolist()\n",
    "values = new_df.groupby(new_df['Source of non-drinking water']).size().reset_index(name='Frequency')\n",
    "values\n"
   ]
  },
  {
   "cell_type": "markdown",
   "metadata": {},
   "source": [
    "Visualization Code"
   ]
  },
  {
   "cell_type": "code",
   "execution_count": null,
   "metadata": {},
   "outputs": [],
   "source": [
    "import plotly.graph_objects as go\n",
    "\n",
    "\n",
    "fig = go.Figure(data=[\n",
    "    go.Bar(x=values['Source of non-drinking water'], y=values['Frequency'], name='Frequency')\n",
    "])\n",
    "\n",
    "# Customize layout\n",
    "fig.update_layout(\n",
    "    title = \"Sources of non-drinking water\",\n",
    "    xaxis_title='Categories',\n",
    "    yaxis_title='Values',\n",
    "    bargap=0.2  # Adjust spacing between bars\n",
    ")\n",
    "\n"
   ]
  }
 ],
 "metadata": {
  "language_info": {
   "name": "python"
  }
 },
 "nbformat": 4,
 "nbformat_minor": 2
}
