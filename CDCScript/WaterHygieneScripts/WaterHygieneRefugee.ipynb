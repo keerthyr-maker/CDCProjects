{
 "cells": [
  {
   "cell_type": "code",
   "execution_count": null,
   "metadata": {},
   "outputs": [],
   "source": [
    "import pandas as pd"
   ]
  },
  {
   "cell_type": "markdown",
   "metadata": {},
   "source": [
    "Reading Nduta Refugee Camp Data"
   ]
  },
  {
   "cell_type": "code",
   "execution_count": null,
   "metadata": {},
   "outputs": [],
   "source": [
    "data_refugee = pd.read_csv('/Users/keerthyrangan/Downloads/Nduta - Anonymized Data.csv')\n"
   ]
  },
  {
   "cell_type": "markdown",
   "metadata": {},
   "source": [
    "Creating Frequencies for Visualizations and the Visualizations"
   ]
  },
  {
   "cell_type": "code",
   "execution_count": null,
   "metadata": {},
   "outputs": [],
   "source": [
    "value_counts = data_refugee[\"washhandsbfeatmeth\"].value_counts()\n",
    "labels = value_counts.index.tolist()\n",
    "values = value_counts.values.tolist()"
   ]
  },
  {
   "cell_type": "code",
   "execution_count": null,
   "metadata": {},
   "outputs": [],
   "source": [
    "import plotly.graph_objects as go\n",
    "\n",
    "# Create pie chart trace\n",
    "pie_chart = go.Pie(\n",
    "    labels=labels,\n",
    "    values=values\n",
    ")\n",
    "\n",
    "# Create layout (optional)\n",
    "layout = go.Layout(\n",
    "    title='Washing Hands Methods'\n",
    ")\n",
    "\n",
    "# Create figure\n",
    "fig = go.Figure(data=[pie_chart], layout=layout)\n",
    "\n",
    "# Show figure\n",
    "fig.show()\n"
   ]
  }
 ],
 "metadata": {
  "language_info": {
   "name": "python"
  }
 },
 "nbformat": 4,
 "nbformat_minor": 2
}
