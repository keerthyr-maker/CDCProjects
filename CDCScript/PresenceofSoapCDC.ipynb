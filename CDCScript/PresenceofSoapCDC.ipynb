{
 "cells": [
  {
   "cell_type": "code",
   "execution_count": 3,
   "metadata": {},
   "outputs": [
    {
     "name": "stdout",
     "output_type": "stream",
     "text": [
      "Defaulting to user installation because normal site-packages is not writeable\n",
      "Requirement already satisfied: pandas in /Users/keerthyrangan/Library/Python/3.9/lib/python/site-packages (2.2.1)\n",
      "Requirement already satisfied: python-dateutil>=2.8.2 in /Users/keerthyrangan/Library/Python/3.9/lib/python/site-packages (from pandas) (2.9.0.post0)\n",
      "Requirement already satisfied: numpy<2,>=1.22.4 in /Users/keerthyrangan/Library/Python/3.9/lib/python/site-packages (from pandas) (1.26.4)\n",
      "Requirement already satisfied: pytz>=2020.1 in /Users/keerthyrangan/Library/Python/3.9/lib/python/site-packages (from pandas) (2024.1)\n",
      "Requirement already satisfied: tzdata>=2022.7 in /Users/keerthyrangan/Library/Python/3.9/lib/python/site-packages (from pandas) (2024.1)\n",
      "Requirement already satisfied: six>=1.5 in /Library/Developer/CommandLineTools/Library/Frameworks/Python3.framework/Versions/3.9/lib/python3.9/site-packages (from python-dateutil>=2.8.2->pandas) (1.15.0)\n",
      "\u001b[33mWARNING: You are using pip version 21.2.4; however, version 24.0 is available.\n",
      "You should consider upgrading via the '/Library/Developer/CommandLineTools/usr/bin/python3 -m pip install --upgrade pip' command.\u001b[0m\n",
      "Note: you may need to restart the kernel to use updated packages.\n"
     ]
    }
   ],
   "source": [
    "pip install pandas"
   ]
  },
  {
   "cell_type": "code",
   "execution_count": 4,
   "metadata": {},
   "outputs": [],
   "source": [
    "import pandas as pd\n"
   ]
  },
  {
   "cell_type": "code",
   "execution_count": 5,
   "metadata": {},
   "outputs": [
    {
     "data": {
      "text/html": [
       "<div>\n",
       "<style scoped>\n",
       "    .dataframe tbody tr th:only-of-type {\n",
       "        vertical-align: middle;\n",
       "    }\n",
       "\n",
       "    .dataframe tbody tr th {\n",
       "        vertical-align: top;\n",
       "    }\n",
       "\n",
       "    .dataframe thead th {\n",
       "        text-align: right;\n",
       "    }\n",
       "</style>\n",
       "<table border=\"1\" class=\"dataframe\">\n",
       "  <thead>\n",
       "    <tr style=\"text-align: right;\">\n",
       "      <th></th>\n",
       "      <th>hhid</th>\n",
       "      <th>hv000</th>\n",
       "      <th>hv001</th>\n",
       "      <th>hv002</th>\n",
       "      <th>hv003</th>\n",
       "      <th>hv004</th>\n",
       "      <th>hv005</th>\n",
       "      <th>hv006</th>\n",
       "      <th>hv007</th>\n",
       "      <th>hv008</th>\n",
       "      <th>...</th>\n",
       "      <th>hdis9_47</th>\n",
       "      <th>hdis9_48</th>\n",
       "      <th>hdis9_49</th>\n",
       "      <th>hdis9_50</th>\n",
       "      <th>hdis9_51</th>\n",
       "      <th>hdis9_52</th>\n",
       "      <th>hdis9_53</th>\n",
       "      <th>hdis9_54</th>\n",
       "      <th>hdis9_55</th>\n",
       "      <th>hdis9_56</th>\n",
       "    </tr>\n",
       "  </thead>\n",
       "  <tbody>\n",
       "    <tr>\n",
       "      <th>0</th>\n",
       "      <td>1   1</td>\n",
       "      <td>TZ8</td>\n",
       "      <td>1</td>\n",
       "      <td>1</td>\n",
       "      <td>2</td>\n",
       "      <td>1</td>\n",
       "      <td>1375201</td>\n",
       "      <td>4</td>\n",
       "      <td>2022</td>\n",
       "      <td>1468</td>\n",
       "      <td>...</td>\n",
       "      <td>NaN</td>\n",
       "      <td>NaN</td>\n",
       "      <td>NaN</td>\n",
       "      <td>NaN</td>\n",
       "      <td>NaN</td>\n",
       "      <td>NaN</td>\n",
       "      <td>NaN</td>\n",
       "      <td>NaN</td>\n",
       "      <td>NaN</td>\n",
       "      <td>NaN</td>\n",
       "    </tr>\n",
       "    <tr>\n",
       "      <th>1</th>\n",
       "      <td>1   5</td>\n",
       "      <td>TZ8</td>\n",
       "      <td>1</td>\n",
       "      <td>5</td>\n",
       "      <td>1</td>\n",
       "      <td>1</td>\n",
       "      <td>1375201</td>\n",
       "      <td>4</td>\n",
       "      <td>2022</td>\n",
       "      <td>1468</td>\n",
       "      <td>...</td>\n",
       "      <td>NaN</td>\n",
       "      <td>NaN</td>\n",
       "      <td>NaN</td>\n",
       "      <td>NaN</td>\n",
       "      <td>NaN</td>\n",
       "      <td>NaN</td>\n",
       "      <td>NaN</td>\n",
       "      <td>NaN</td>\n",
       "      <td>NaN</td>\n",
       "      <td>NaN</td>\n",
       "    </tr>\n",
       "    <tr>\n",
       "      <th>2</th>\n",
       "      <td>1   9</td>\n",
       "      <td>TZ8</td>\n",
       "      <td>1</td>\n",
       "      <td>9</td>\n",
       "      <td>2</td>\n",
       "      <td>1</td>\n",
       "      <td>1375201</td>\n",
       "      <td>4</td>\n",
       "      <td>2022</td>\n",
       "      <td>1468</td>\n",
       "      <td>...</td>\n",
       "      <td>NaN</td>\n",
       "      <td>NaN</td>\n",
       "      <td>NaN</td>\n",
       "      <td>NaN</td>\n",
       "      <td>NaN</td>\n",
       "      <td>NaN</td>\n",
       "      <td>NaN</td>\n",
       "      <td>NaN</td>\n",
       "      <td>NaN</td>\n",
       "      <td>NaN</td>\n",
       "    </tr>\n",
       "    <tr>\n",
       "      <th>3</th>\n",
       "      <td>1  12</td>\n",
       "      <td>TZ8</td>\n",
       "      <td>1</td>\n",
       "      <td>12</td>\n",
       "      <td>1</td>\n",
       "      <td>1</td>\n",
       "      <td>1375201</td>\n",
       "      <td>4</td>\n",
       "      <td>2022</td>\n",
       "      <td>1468</td>\n",
       "      <td>...</td>\n",
       "      <td>NaN</td>\n",
       "      <td>NaN</td>\n",
       "      <td>NaN</td>\n",
       "      <td>NaN</td>\n",
       "      <td>NaN</td>\n",
       "      <td>NaN</td>\n",
       "      <td>NaN</td>\n",
       "      <td>NaN</td>\n",
       "      <td>NaN</td>\n",
       "      <td>NaN</td>\n",
       "    </tr>\n",
       "    <tr>\n",
       "      <th>4</th>\n",
       "      <td>1  16</td>\n",
       "      <td>TZ8</td>\n",
       "      <td>1</td>\n",
       "      <td>16</td>\n",
       "      <td>1</td>\n",
       "      <td>1</td>\n",
       "      <td>1375201</td>\n",
       "      <td>4</td>\n",
       "      <td>2022</td>\n",
       "      <td>1468</td>\n",
       "      <td>...</td>\n",
       "      <td>NaN</td>\n",
       "      <td>NaN</td>\n",
       "      <td>NaN</td>\n",
       "      <td>NaN</td>\n",
       "      <td>NaN</td>\n",
       "      <td>NaN</td>\n",
       "      <td>NaN</td>\n",
       "      <td>NaN</td>\n",
       "      <td>NaN</td>\n",
       "      <td>NaN</td>\n",
       "    </tr>\n",
       "    <tr>\n",
       "      <th>...</th>\n",
       "      <td>...</td>\n",
       "      <td>...</td>\n",
       "      <td>...</td>\n",
       "      <td>...</td>\n",
       "      <td>...</td>\n",
       "      <td>...</td>\n",
       "      <td>...</td>\n",
       "      <td>...</td>\n",
       "      <td>...</td>\n",
       "      <td>...</td>\n",
       "      <td>...</td>\n",
       "      <td>...</td>\n",
       "      <td>...</td>\n",
       "      <td>...</td>\n",
       "      <td>...</td>\n",
       "      <td>...</td>\n",
       "      <td>...</td>\n",
       "      <td>...</td>\n",
       "      <td>...</td>\n",
       "      <td>...</td>\n",
       "      <td>...</td>\n",
       "    </tr>\n",
       "    <tr>\n",
       "      <th>15700</th>\n",
       "      <td>629  80</td>\n",
       "      <td>TZ8</td>\n",
       "      <td>629</td>\n",
       "      <td>80</td>\n",
       "      <td>1</td>\n",
       "      <td>629</td>\n",
       "      <td>140321</td>\n",
       "      <td>6</td>\n",
       "      <td>2022</td>\n",
       "      <td>1470</td>\n",
       "      <td>...</td>\n",
       "      <td>NaN</td>\n",
       "      <td>NaN</td>\n",
       "      <td>NaN</td>\n",
       "      <td>NaN</td>\n",
       "      <td>NaN</td>\n",
       "      <td>NaN</td>\n",
       "      <td>NaN</td>\n",
       "      <td>NaN</td>\n",
       "      <td>NaN</td>\n",
       "      <td>NaN</td>\n",
       "    </tr>\n",
       "    <tr>\n",
       "      <th>15701</th>\n",
       "      <td>629  84</td>\n",
       "      <td>TZ8</td>\n",
       "      <td>629</td>\n",
       "      <td>84</td>\n",
       "      <td>1</td>\n",
       "      <td>629</td>\n",
       "      <td>140321</td>\n",
       "      <td>6</td>\n",
       "      <td>2022</td>\n",
       "      <td>1470</td>\n",
       "      <td>...</td>\n",
       "      <td>NaN</td>\n",
       "      <td>NaN</td>\n",
       "      <td>NaN</td>\n",
       "      <td>NaN</td>\n",
       "      <td>NaN</td>\n",
       "      <td>NaN</td>\n",
       "      <td>NaN</td>\n",
       "      <td>NaN</td>\n",
       "      <td>NaN</td>\n",
       "      <td>NaN</td>\n",
       "    </tr>\n",
       "    <tr>\n",
       "      <th>15702</th>\n",
       "      <td>629  87</td>\n",
       "      <td>TZ8</td>\n",
       "      <td>629</td>\n",
       "      <td>87</td>\n",
       "      <td>1</td>\n",
       "      <td>629</td>\n",
       "      <td>140321</td>\n",
       "      <td>6</td>\n",
       "      <td>2022</td>\n",
       "      <td>1470</td>\n",
       "      <td>...</td>\n",
       "      <td>NaN</td>\n",
       "      <td>NaN</td>\n",
       "      <td>NaN</td>\n",
       "      <td>NaN</td>\n",
       "      <td>NaN</td>\n",
       "      <td>NaN</td>\n",
       "      <td>NaN</td>\n",
       "      <td>NaN</td>\n",
       "      <td>NaN</td>\n",
       "      <td>NaN</td>\n",
       "    </tr>\n",
       "    <tr>\n",
       "      <th>15703</th>\n",
       "      <td>629  91</td>\n",
       "      <td>TZ8</td>\n",
       "      <td>629</td>\n",
       "      <td>91</td>\n",
       "      <td>1</td>\n",
       "      <td>629</td>\n",
       "      <td>140321</td>\n",
       "      <td>6</td>\n",
       "      <td>2022</td>\n",
       "      <td>1470</td>\n",
       "      <td>...</td>\n",
       "      <td>NaN</td>\n",
       "      <td>NaN</td>\n",
       "      <td>NaN</td>\n",
       "      <td>NaN</td>\n",
       "      <td>NaN</td>\n",
       "      <td>NaN</td>\n",
       "      <td>NaN</td>\n",
       "      <td>NaN</td>\n",
       "      <td>NaN</td>\n",
       "      <td>NaN</td>\n",
       "    </tr>\n",
       "    <tr>\n",
       "      <th>15704</th>\n",
       "      <td>629  95</td>\n",
       "      <td>TZ8</td>\n",
       "      <td>629</td>\n",
       "      <td>95</td>\n",
       "      <td>1</td>\n",
       "      <td>629</td>\n",
       "      <td>140321</td>\n",
       "      <td>6</td>\n",
       "      <td>2022</td>\n",
       "      <td>1470</td>\n",
       "      <td>...</td>\n",
       "      <td>NaN</td>\n",
       "      <td>NaN</td>\n",
       "      <td>NaN</td>\n",
       "      <td>NaN</td>\n",
       "      <td>NaN</td>\n",
       "      <td>NaN</td>\n",
       "      <td>NaN</td>\n",
       "      <td>NaN</td>\n",
       "      <td>NaN</td>\n",
       "      <td>NaN</td>\n",
       "    </tr>\n",
       "  </tbody>\n",
       "</table>\n",
       "<p>15705 rows × 9246 columns</p>\n",
       "</div>"
      ],
      "text/plain": [
       "               hhid hv000  hv001  hv002 hv003  hv004    hv005  hv006  hv007  \\\n",
       "0             1   1   TZ8      1      1     2      1  1375201      4   2022   \n",
       "1             1   5   TZ8      1      5     1      1  1375201      4   2022   \n",
       "2             1   9   TZ8      1      9     2      1  1375201      4   2022   \n",
       "3             1  12   TZ8      1     12     1      1  1375201      4   2022   \n",
       "4             1  16   TZ8      1     16     1      1  1375201      4   2022   \n",
       "...             ...   ...    ...    ...   ...    ...      ...    ...    ...   \n",
       "15700       629  80   TZ8    629     80     1    629   140321      6   2022   \n",
       "15701       629  84   TZ8    629     84     1    629   140321      6   2022   \n",
       "15702       629  87   TZ8    629     87     1    629   140321      6   2022   \n",
       "15703       629  91   TZ8    629     91     1    629   140321      6   2022   \n",
       "15704       629  95   TZ8    629     95     1    629   140321      6   2022   \n",
       "\n",
       "       hv008  ...  hdis9_47  hdis9_48  hdis9_49  hdis9_50  hdis9_51  hdis9_52  \\\n",
       "0       1468  ...       NaN       NaN       NaN       NaN       NaN       NaN   \n",
       "1       1468  ...       NaN       NaN       NaN       NaN       NaN       NaN   \n",
       "2       1468  ...       NaN       NaN       NaN       NaN       NaN       NaN   \n",
       "3       1468  ...       NaN       NaN       NaN       NaN       NaN       NaN   \n",
       "4       1468  ...       NaN       NaN       NaN       NaN       NaN       NaN   \n",
       "...      ...  ...       ...       ...       ...       ...       ...       ...   \n",
       "15700   1470  ...       NaN       NaN       NaN       NaN       NaN       NaN   \n",
       "15701   1470  ...       NaN       NaN       NaN       NaN       NaN       NaN   \n",
       "15702   1470  ...       NaN       NaN       NaN       NaN       NaN       NaN   \n",
       "15703   1470  ...       NaN       NaN       NaN       NaN       NaN       NaN   \n",
       "15704   1470  ...       NaN       NaN       NaN       NaN       NaN       NaN   \n",
       "\n",
       "       hdis9_53 hdis9_54  hdis9_55  hdis9_56  \n",
       "0           NaN      NaN       NaN       NaN  \n",
       "1           NaN      NaN       NaN       NaN  \n",
       "2           NaN      NaN       NaN       NaN  \n",
       "3           NaN      NaN       NaN       NaN  \n",
       "4           NaN      NaN       NaN       NaN  \n",
       "...         ...      ...       ...       ...  \n",
       "15700       NaN      NaN       NaN       NaN  \n",
       "15701       NaN      NaN       NaN       NaN  \n",
       "15702       NaN      NaN       NaN       NaN  \n",
       "15703       NaN      NaN       NaN       NaN  \n",
       "15704       NaN      NaN       NaN       NaN  \n",
       "\n",
       "[15705 rows x 9246 columns]"
      ]
     },
     "execution_count": 5,
     "metadata": {},
     "output_type": "execute_result"
    }
   ],
   "source": [
    "data = pd.read_stata(\"TZHR82FL.DTA\")\n",
    "\n",
    "data"
   ]
  },
  {
   "cell_type": "code",
   "execution_count": 6,
   "metadata": {},
   "outputs": [
    {
     "name": "stderr",
     "output_type": "stream",
     "text": [
      "/var/folders/l4/kpydl4ws7zd8nz43jqjhct5r0000gn/T/ipykernel_98594/2319152466.py:6: SettingWithCopyWarning: \n",
      "A value is trying to be set on a copy of a slice from a DataFrame.\n",
      "Try using .loc[row_indexer,col_indexer] = value instead\n",
      "\n",
      "See the caveats in the documentation: https://pandas.pydata.org/pandas-docs/stable/user_guide/indexing.html#returning-a-view-versus-a-copy\n",
      "  new_df[\"Household ID\"] = new_df[\"hhid\"]\n",
      "/var/folders/l4/kpydl4ws7zd8nz43jqjhct5r0000gn/T/ipykernel_98594/2319152466.py:7: SettingWithCopyWarning: \n",
      "A value is trying to be set on a copy of a slice from a DataFrame.\n",
      "Try using .loc[row_indexer,col_indexer] = value instead\n",
      "\n",
      "See the caveats in the documentation: https://pandas.pydata.org/pandas-docs/stable/user_guide/indexing.html#returning-a-view-versus-a-copy\n",
      "  new_df[\"Region of residence\"] = new_df[\"hv024\"]\n",
      "/var/folders/l4/kpydl4ws7zd8nz43jqjhct5r0000gn/T/ipykernel_98594/2319152466.py:8: SettingWithCopyWarning: \n",
      "A value is trying to be set on a copy of a slice from a DataFrame.\n",
      "Try using .loc[row_indexer,col_indexer] = value instead\n",
      "\n",
      "See the caveats in the documentation: https://pandas.pydata.org/pandas-docs/stable/user_guide/indexing.html#returning-a-view-versus-a-copy\n",
      "  new_df[\"Source of drinking water\"] = new_df[\"hv201\"]\n",
      "/var/folders/l4/kpydl4ws7zd8nz43jqjhct5r0000gn/T/ipykernel_98594/2319152466.py:9: SettingWithCopyWarning: \n",
      "A value is trying to be set on a copy of a slice from a DataFrame.\n",
      "Try using .loc[row_indexer,col_indexer] = value instead\n",
      "\n",
      "See the caveats in the documentation: https://pandas.pydata.org/pandas-docs/stable/user_guide/indexing.html#returning-a-view-versus-a-copy\n",
      "  new_df[\"Source of non-drinking water\"] = new_df[\"hv202\"]\n",
      "/var/folders/l4/kpydl4ws7zd8nz43jqjhct5r0000gn/T/ipykernel_98594/2319152466.py:10: SettingWithCopyWarning: \n",
      "A value is trying to be set on a copy of a slice from a DataFrame.\n",
      "Try using .loc[row_indexer,col_indexer] = value instead\n",
      "\n",
      "See the caveats in the documentation: https://pandas.pydata.org/pandas-docs/stable/user_guide/indexing.html#returning-a-view-versus-a-copy\n",
      "  new_df[\"Location of source for water\"] = new_df[\"hv235\"]\n",
      "/var/folders/l4/kpydl4ws7zd8nz43jqjhct5r0000gn/T/ipykernel_98594/2319152466.py:11: SettingWithCopyWarning: \n",
      "A value is trying to be set on a copy of a slice from a DataFrame.\n",
      "Try using .loc[row_indexer,col_indexer] = value instead\n",
      "\n",
      "See the caveats in the documentation: https://pandas.pydata.org/pandas-docs/stable/user_guide/indexing.html#returning-a-view-versus-a-copy\n",
      "  new_df[\"Was soap visibly present to wash hands?\"] = new_df[\"hv232\"]\n"
     ]
    },
    {
     "data": {
      "text/html": [
       "<div>\n",
       "<style scoped>\n",
       "    .dataframe tbody tr th:only-of-type {\n",
       "        vertical-align: middle;\n",
       "    }\n",
       "\n",
       "    .dataframe tbody tr th {\n",
       "        vertical-align: top;\n",
       "    }\n",
       "\n",
       "    .dataframe thead th {\n",
       "        text-align: right;\n",
       "    }\n",
       "</style>\n",
       "<table border=\"1\" class=\"dataframe\">\n",
       "  <thead>\n",
       "    <tr style=\"text-align: right;\">\n",
       "      <th></th>\n",
       "      <th>Household ID</th>\n",
       "      <th>Region of residence</th>\n",
       "      <th>Source of drinking water</th>\n",
       "      <th>Source of non-drinking water</th>\n",
       "      <th>Location of source for water</th>\n",
       "      <th>Was soap visibly present to wash hands?</th>\n",
       "    </tr>\n",
       "  </thead>\n",
       "  <tbody>\n",
       "    <tr>\n",
       "      <th>6</th>\n",
       "      <td>1  23</td>\n",
       "      <td>dodoma</td>\n",
       "      <td>unprotected spring</td>\n",
       "      <td>NaN</td>\n",
       "      <td>elsewhere</td>\n",
       "      <td>yes</td>\n",
       "    </tr>\n",
       "    <tr>\n",
       "      <th>11</th>\n",
       "      <td>1  41</td>\n",
       "      <td>dodoma</td>\n",
       "      <td>unprotected well</td>\n",
       "      <td>NaN</td>\n",
       "      <td>elsewhere</td>\n",
       "      <td>yes</td>\n",
       "    </tr>\n",
       "    <tr>\n",
       "      <th>17</th>\n",
       "      <td>1  63</td>\n",
       "      <td>dodoma</td>\n",
       "      <td>unprotected well</td>\n",
       "      <td>NaN</td>\n",
       "      <td>elsewhere</td>\n",
       "      <td>yes</td>\n",
       "    </tr>\n",
       "    <tr>\n",
       "      <th>22</th>\n",
       "      <td>1  81</td>\n",
       "      <td>dodoma</td>\n",
       "      <td>protected well</td>\n",
       "      <td>NaN</td>\n",
       "      <td>elsewhere</td>\n",
       "      <td>no</td>\n",
       "    </tr>\n",
       "    <tr>\n",
       "      <th>25</th>\n",
       "      <td>1  92</td>\n",
       "      <td>dodoma</td>\n",
       "      <td>unprotected well</td>\n",
       "      <td>NaN</td>\n",
       "      <td>elsewhere</td>\n",
       "      <td>yes</td>\n",
       "    </tr>\n",
       "    <tr>\n",
       "      <th>...</th>\n",
       "      <td>...</td>\n",
       "      <td>...</td>\n",
       "      <td>...</td>\n",
       "      <td>...</td>\n",
       "      <td>...</td>\n",
       "      <td>...</td>\n",
       "    </tr>\n",
       "    <tr>\n",
       "      <th>15494</th>\n",
       "      <td>621  53</td>\n",
       "      <td>kusini pemba</td>\n",
       "      <td>piped into dwelling</td>\n",
       "      <td>NaN</td>\n",
       "      <td>NaN</td>\n",
       "      <td>no</td>\n",
       "    </tr>\n",
       "    <tr>\n",
       "      <th>15496</th>\n",
       "      <td>621  59</td>\n",
       "      <td>kusini pemba</td>\n",
       "      <td>piped into dwelling</td>\n",
       "      <td>NaN</td>\n",
       "      <td>NaN</td>\n",
       "      <td>yes</td>\n",
       "    </tr>\n",
       "    <tr>\n",
       "      <th>15501</th>\n",
       "      <td>621  75</td>\n",
       "      <td>kusini pemba</td>\n",
       "      <td>piped into dwelling</td>\n",
       "      <td>NaN</td>\n",
       "      <td>NaN</td>\n",
       "      <td>yes</td>\n",
       "    </tr>\n",
       "    <tr>\n",
       "      <th>15502</th>\n",
       "      <td>621  78</td>\n",
       "      <td>kusini pemba</td>\n",
       "      <td>piped into dwelling</td>\n",
       "      <td>NaN</td>\n",
       "      <td>NaN</td>\n",
       "      <td>yes</td>\n",
       "    </tr>\n",
       "    <tr>\n",
       "      <th>15549</th>\n",
       "      <td>623 128</td>\n",
       "      <td>kusini pemba</td>\n",
       "      <td>piped into dwelling</td>\n",
       "      <td>NaN</td>\n",
       "      <td>NaN</td>\n",
       "      <td>no</td>\n",
       "    </tr>\n",
       "  </tbody>\n",
       "</table>\n",
       "<p>1957 rows × 6 columns</p>\n",
       "</div>"
      ],
      "text/plain": [
       "       Household ID Region of residence Source of drinking water  \\\n",
       "6             1  23              dodoma       unprotected spring   \n",
       "11            1  41              dodoma         unprotected well   \n",
       "17            1  63              dodoma         unprotected well   \n",
       "22            1  81              dodoma           protected well   \n",
       "25            1  92              dodoma         unprotected well   \n",
       "...             ...                 ...                      ...   \n",
       "15494       621  53        kusini pemba      piped into dwelling   \n",
       "15496       621  59        kusini pemba      piped into dwelling   \n",
       "15501       621  75        kusini pemba      piped into dwelling   \n",
       "15502       621  78        kusini pemba      piped into dwelling   \n",
       "15549       623 128        kusini pemba      piped into dwelling   \n",
       "\n",
       "      Source of non-drinking water Location of source for water  \\\n",
       "6                              NaN                    elsewhere   \n",
       "11                             NaN                    elsewhere   \n",
       "17                             NaN                    elsewhere   \n",
       "22                             NaN                    elsewhere   \n",
       "25                             NaN                    elsewhere   \n",
       "...                            ...                          ...   \n",
       "15494                          NaN                          NaN   \n",
       "15496                          NaN                          NaN   \n",
       "15501                          NaN                          NaN   \n",
       "15502                          NaN                          NaN   \n",
       "15549                          NaN                          NaN   \n",
       "\n",
       "      Was soap visibly present to wash hands?  \n",
       "6                                         yes  \n",
       "11                                        yes  \n",
       "17                                        yes  \n",
       "22                                         no  \n",
       "25                                        yes  \n",
       "...                                       ...  \n",
       "15494                                      no  \n",
       "15496                                     yes  \n",
       "15501                                     yes  \n",
       "15502                                     yes  \n",
       "15549                                      no  \n",
       "\n",
       "[1957 rows x 6 columns]"
      ]
     },
     "execution_count": 6,
     "metadata": {},
     "output_type": "execute_result"
    }
   ],
   "source": [
    "\n",
    "\n",
    "\n",
    "variables_to_keep = ['hhid','hv024','hv201','hv202','hv235','hv232']\n",
    "\n",
    "\n",
    "new_df = data[variables_to_keep]\n",
    "\n",
    "new_df[\"Household ID\"] = new_df[\"hhid\"]\n",
    "new_df[\"Region of residence\"] = new_df[\"hv024\"]\n",
    "new_df[\"Source of drinking water\"] = new_df[\"hv201\"]\n",
    "new_df[\"Source of non-drinking water\"] = new_df[\"hv202\"]\n",
    "new_df[\"Location of source for water\"] = new_df[\"hv235\"]\n",
    "new_df[\"Was soap visibly present to wash hands?\"] = new_df[\"hv232\"]\n",
    "\n",
    "new_df = new_df.drop(columns=['hhid','hv201','hv202','hv235','hv024','hv232'])\n",
    "new_df = new_df.dropna(subset=[\"Was soap visibly present to wash hands?\"])\n",
    "\n",
    "new_df\n"
   ]
  },
  {
   "cell_type": "code",
   "execution_count": 7,
   "metadata": {},
   "outputs": [
    {
     "name": "stderr",
     "output_type": "stream",
     "text": [
      "/var/folders/l4/kpydl4ws7zd8nz43jqjhct5r0000gn/T/ipykernel_98594/1270586803.py:4: FutureWarning: The default of observed=False is deprecated and will be changed to True in a future version of pandas. Pass observed=False to retain current behavior or observed=True to adopt the future default and silence this warning.\n",
      "  frequency_df = regions.groupby(regions['Was soap visibly present to wash hands?']).size().reset_index(name='Frequency')\n",
      "/var/folders/l4/kpydl4ws7zd8nz43jqjhct5r0000gn/T/ipykernel_98594/1270586803.py:9: FutureWarning: The behavior of Series.replace (and DataFrame.replace) with CategoricalDtype is deprecated. In a future version, replace will only be used for cases that preserve the categories. To change the categories, use ser.cat.rename_categories instead.\n",
      "  frequency_df[\"Was soap visibly present to wash hands?\"] = frequency_df[\"Was soap visibly present to wash hands?\"].replace(\"no\",\"No\")\n",
      "/var/folders/l4/kpydl4ws7zd8nz43jqjhct5r0000gn/T/ipykernel_98594/1270586803.py:10: FutureWarning: The behavior of Series.replace (and DataFrame.replace) with CategoricalDtype is deprecated. In a future version, replace will only be used for cases that preserve the categories. To change the categories, use ser.cat.rename_categories instead.\n",
      "  frequency_df[\"Was soap visibly present to wash hands?\"] = frequency_df[\"Was soap visibly present to wash hands?\"].replace(\"yes\",\"Yes\")\n"
     ]
    },
    {
     "data": {
      "text/html": [
       "<div>\n",
       "<style scoped>\n",
       "    .dataframe tbody tr th:only-of-type {\n",
       "        vertical-align: middle;\n",
       "    }\n",
       "\n",
       "    .dataframe tbody tr th {\n",
       "        vertical-align: top;\n",
       "    }\n",
       "\n",
       "    .dataframe thead th {\n",
       "        text-align: right;\n",
       "    }\n",
       "</style>\n",
       "<table border=\"1\" class=\"dataframe\">\n",
       "  <thead>\n",
       "    <tr style=\"text-align: right;\">\n",
       "      <th></th>\n",
       "      <th>Was soap visibly present to wash hands?</th>\n",
       "      <th>Frequency</th>\n",
       "      <th>Percent Frequency</th>\n",
       "    </tr>\n",
       "  </thead>\n",
       "  <tbody>\n",
       "    <tr>\n",
       "      <th>0</th>\n",
       "      <td>No</td>\n",
       "      <td>36</td>\n",
       "      <td>27.067669</td>\n",
       "    </tr>\n",
       "    <tr>\n",
       "      <th>1</th>\n",
       "      <td>Yes</td>\n",
       "      <td>97</td>\n",
       "      <td>72.932331</td>\n",
       "    </tr>\n",
       "  </tbody>\n",
       "</table>\n",
       "</div>"
      ],
      "text/plain": [
       "  Was soap visibly present to wash hands?  Frequency  Percent Frequency\n",
       "0                                      No         36          27.067669\n",
       "1                                     Yes         97          72.932331"
      ]
     },
     "execution_count": 7,
     "metadata": {},
     "output_type": "execute_result"
    }
   ],
   "source": [
    "regions = new_df[(new_df['Region of residence'] == 'geita') | (new_df['Region of residence'] == 'kigoma')]\n",
    "\n",
    "\n",
    "frequency_df = regions.groupby(regions['Was soap visibly present to wash hands?']).size().reset_index(name='Frequency')\n",
    "\n",
    "total_responses = len(regions)\n",
    "frequency_df['Percent Frequency'] = (frequency_df['Frequency'] / total_responses) * 100\n",
    "\n",
    "frequency_df[\"Was soap visibly present to wash hands?\"] = frequency_df[\"Was soap visibly present to wash hands?\"].replace(\"no\",\"No\")\n",
    "frequency_df[\"Was soap visibly present to wash hands?\"] = frequency_df[\"Was soap visibly present to wash hands?\"].replace(\"yes\",\"Yes\")\n",
    "                          \n",
    "frequency_df\n"
   ]
  },
  {
   "cell_type": "code",
   "execution_count": 11,
   "metadata": {},
   "outputs": [
    {
     "name": "stderr",
     "output_type": "stream",
     "text": [
      "/var/folders/l4/kpydl4ws7zd8nz43jqjhct5r0000gn/T/ipykernel_98594/2597575674.py:11: SettingWithCopyWarning: \n",
      "A value is trying to be set on a copy of a slice from a DataFrame.\n",
      "Try using .loc[row_indexer,col_indexer] = value instead\n",
      "\n",
      "See the caveats in the documentation: https://pandas.pydata.org/pandas-docs/stable/user_guide/indexing.html#returning-a-view-versus-a-copy\n",
      "  new_df1[\"Was soap visibly present to wash hands?\"] = new_df1[\"presencesoap\"]\n"
     ]
    },
    {
     "data": {
      "text/html": [
       "<div>\n",
       "<style scoped>\n",
       "    .dataframe tbody tr th:only-of-type {\n",
       "        vertical-align: middle;\n",
       "    }\n",
       "\n",
       "    .dataframe tbody tr th {\n",
       "        vertical-align: top;\n",
       "    }\n",
       "\n",
       "    .dataframe thead th {\n",
       "        text-align: right;\n",
       "    }\n",
       "</style>\n",
       "<table border=\"1\" class=\"dataframe\">\n",
       "  <thead>\n",
       "    <tr style=\"text-align: right;\">\n",
       "      <th></th>\n",
       "      <th>Was soap visibly present to wash hands?</th>\n",
       "      <th>Frequency</th>\n",
       "      <th>Percent Frequency</th>\n",
       "    </tr>\n",
       "  </thead>\n",
       "  <tbody>\n",
       "    <tr>\n",
       "      <th>0</th>\n",
       "      <td>No</td>\n",
       "      <td>119</td>\n",
       "      <td>31.315789</td>\n",
       "    </tr>\n",
       "    <tr>\n",
       "      <th>1</th>\n",
       "      <td>Yes</td>\n",
       "      <td>261</td>\n",
       "      <td>68.684211</td>\n",
       "    </tr>\n",
       "  </tbody>\n",
       "</table>\n",
       "</div>"
      ],
      "text/plain": [
       "  Was soap visibly present to wash hands?  Frequency  Percent Frequency\n",
       "0                                      No        119          31.315789\n",
       "1                                     Yes        261          68.684211"
      ]
     },
     "execution_count": 11,
     "metadata": {},
     "output_type": "execute_result"
    }
   ],
   "source": [
    "\n",
    "\n",
    "df = pd.read_csv(\"/Users/keerthyrangan/Downloads/Nduta - Anonymized Data.csv\")\n",
    "\n",
    "\n",
    "variables = [\"presencesoap\"]\n",
    "\n",
    "new_df1 = df[variables]\n",
    "\n",
    "new_df1\n",
    "\n",
    "\n",
    "new_df1[\"Was soap visibly present to wash hands?\"] = new_df1[\"presencesoap\"]\n",
    "\n",
    "\n",
    "\n",
    "\n",
    "frequency_df1 = new_df1.groupby(new_df1['Was soap visibly present to wash hands?']).size().reset_index(name='Frequency')\n",
    "frequency_df1['Percent Frequency'] = (frequency_df1['Frequency'] / len(new_df1)) * 100\n",
    "\n",
    "frequency_df1\n"
   ]
  },
  {
   "cell_type": "code",
   "execution_count": 9,
   "metadata": {},
   "outputs": [
    {
     "data": {
      "text/html": [
       "<div>\n",
       "<style scoped>\n",
       "    .dataframe tbody tr th:only-of-type {\n",
       "        vertical-align: middle;\n",
       "    }\n",
       "\n",
       "    .dataframe tbody tr th {\n",
       "        vertical-align: top;\n",
       "    }\n",
       "\n",
       "    .dataframe thead th {\n",
       "        text-align: right;\n",
       "    }\n",
       "</style>\n",
       "<table border=\"1\" class=\"dataframe\">\n",
       "  <thead>\n",
       "    <tr style=\"text-align: right;\">\n",
       "      <th></th>\n",
       "      <th>Was soap visibly present to wash hands?</th>\n",
       "      <th>Frequency</th>\n",
       "      <th>Percent Frequency</th>\n",
       "    </tr>\n",
       "  </thead>\n",
       "  <tbody>\n",
       "    <tr>\n",
       "      <th>0</th>\n",
       "      <td>No</td>\n",
       "      <td>72</td>\n",
       "      <td>37.894737</td>\n",
       "    </tr>\n",
       "    <tr>\n",
       "      <th>1</th>\n",
       "      <td>Yes</td>\n",
       "      <td>118</td>\n",
       "      <td>62.105263</td>\n",
       "    </tr>\n",
       "  </tbody>\n",
       "</table>\n",
       "</div>"
      ],
      "text/plain": [
       "  Was soap visibly present to wash hands?  Frequency  Percent Frequency\n",
       "0                                      No         72          37.894737\n",
       "1                                     Yes        118          62.105263"
      ]
     },
     "execution_count": 9,
     "metadata": {},
     "output_type": "execute_result"
    }
   ],
   "source": [
    "df2 = pd.read_csv(\"/Users/keerthyrangan/Downloads/Nyarugusu Burundi - Anonymized Data.csv\")\n",
    "\n",
    "\n",
    "df2[\"Was soap visibly present to wash hands?\"] = df2[\"presencesoap\"]\n",
    "\n",
    "\n",
    "\n",
    "frequency_df2 = df2.groupby(df2['Was soap visibly present to wash hands?']).size().reset_index(name='Frequency')\n",
    "frequency_df2['Percent Frequency'] = (frequency_df2['Frequency'] / len(df2)) * 100\n",
    "\n",
    "frequency_df2\n"
   ]
  },
  {
   "cell_type": "code",
   "execution_count": 12,
   "metadata": {},
   "outputs": [
    {
     "data": {
      "application/vnd.plotly.v1+json": {
       "config": {
        "plotlyServerURL": "https://plot.ly"
       },
       "data": [
        {
         "name": "Northern Tanzania",
         "type": "bar",
         "x": [
          "No",
          "Yes"
         ],
         "y": [
          27.06766917293233,
          72.93233082706767
         ]
        },
        {
         "name": "Refugee Camp 1: Nduta",
         "type": "bar",
         "x": [
          "No",
          "Yes"
         ],
         "y": [
          31.31578947368421,
          68.6842105263158
         ]
        },
        {
         "name": "Refugee Camp 2: Nyagurusu",
         "type": "bar",
         "x": [
          "No",
          "Yes"
         ],
         "y": [
          37.89473684210527,
          62.10526315789474
         ]
        }
       ],
       "layout": {
        "barmode": "group",
        "template": {
         "data": {
          "bar": [
           {
            "error_x": {
             "color": "#2a3f5f"
            },
            "error_y": {
             "color": "#2a3f5f"
            },
            "marker": {
             "line": {
              "color": "#E5ECF6",
              "width": 0.5
             },
             "pattern": {
              "fillmode": "overlay",
              "size": 10,
              "solidity": 0.2
             }
            },
            "type": "bar"
           }
          ],
          "barpolar": [
           {
            "marker": {
             "line": {
              "color": "#E5ECF6",
              "width": 0.5
             },
             "pattern": {
              "fillmode": "overlay",
              "size": 10,
              "solidity": 0.2
             }
            },
            "type": "barpolar"
           }
          ],
          "carpet": [
           {
            "aaxis": {
             "endlinecolor": "#2a3f5f",
             "gridcolor": "white",
             "linecolor": "white",
             "minorgridcolor": "white",
             "startlinecolor": "#2a3f5f"
            },
            "baxis": {
             "endlinecolor": "#2a3f5f",
             "gridcolor": "white",
             "linecolor": "white",
             "minorgridcolor": "white",
             "startlinecolor": "#2a3f5f"
            },
            "type": "carpet"
           }
          ],
          "choropleth": [
           {
            "colorbar": {
             "outlinewidth": 0,
             "ticks": ""
            },
            "type": "choropleth"
           }
          ],
          "contour": [
           {
            "colorbar": {
             "outlinewidth": 0,
             "ticks": ""
            },
            "colorscale": [
             [
              0,
              "#0d0887"
             ],
             [
              0.1111111111111111,
              "#46039f"
             ],
             [
              0.2222222222222222,
              "#7201a8"
             ],
             [
              0.3333333333333333,
              "#9c179e"
             ],
             [
              0.4444444444444444,
              "#bd3786"
             ],
             [
              0.5555555555555556,
              "#d8576b"
             ],
             [
              0.6666666666666666,
              "#ed7953"
             ],
             [
              0.7777777777777778,
              "#fb9f3a"
             ],
             [
              0.8888888888888888,
              "#fdca26"
             ],
             [
              1,
              "#f0f921"
             ]
            ],
            "type": "contour"
           }
          ],
          "contourcarpet": [
           {
            "colorbar": {
             "outlinewidth": 0,
             "ticks": ""
            },
            "type": "contourcarpet"
           }
          ],
          "heatmap": [
           {
            "colorbar": {
             "outlinewidth": 0,
             "ticks": ""
            },
            "colorscale": [
             [
              0,
              "#0d0887"
             ],
             [
              0.1111111111111111,
              "#46039f"
             ],
             [
              0.2222222222222222,
              "#7201a8"
             ],
             [
              0.3333333333333333,
              "#9c179e"
             ],
             [
              0.4444444444444444,
              "#bd3786"
             ],
             [
              0.5555555555555556,
              "#d8576b"
             ],
             [
              0.6666666666666666,
              "#ed7953"
             ],
             [
              0.7777777777777778,
              "#fb9f3a"
             ],
             [
              0.8888888888888888,
              "#fdca26"
             ],
             [
              1,
              "#f0f921"
             ]
            ],
            "type": "heatmap"
           }
          ],
          "heatmapgl": [
           {
            "colorbar": {
             "outlinewidth": 0,
             "ticks": ""
            },
            "colorscale": [
             [
              0,
              "#0d0887"
             ],
             [
              0.1111111111111111,
              "#46039f"
             ],
             [
              0.2222222222222222,
              "#7201a8"
             ],
             [
              0.3333333333333333,
              "#9c179e"
             ],
             [
              0.4444444444444444,
              "#bd3786"
             ],
             [
              0.5555555555555556,
              "#d8576b"
             ],
             [
              0.6666666666666666,
              "#ed7953"
             ],
             [
              0.7777777777777778,
              "#fb9f3a"
             ],
             [
              0.8888888888888888,
              "#fdca26"
             ],
             [
              1,
              "#f0f921"
             ]
            ],
            "type": "heatmapgl"
           }
          ],
          "histogram": [
           {
            "marker": {
             "pattern": {
              "fillmode": "overlay",
              "size": 10,
              "solidity": 0.2
             }
            },
            "type": "histogram"
           }
          ],
          "histogram2d": [
           {
            "colorbar": {
             "outlinewidth": 0,
             "ticks": ""
            },
            "colorscale": [
             [
              0,
              "#0d0887"
             ],
             [
              0.1111111111111111,
              "#46039f"
             ],
             [
              0.2222222222222222,
              "#7201a8"
             ],
             [
              0.3333333333333333,
              "#9c179e"
             ],
             [
              0.4444444444444444,
              "#bd3786"
             ],
             [
              0.5555555555555556,
              "#d8576b"
             ],
             [
              0.6666666666666666,
              "#ed7953"
             ],
             [
              0.7777777777777778,
              "#fb9f3a"
             ],
             [
              0.8888888888888888,
              "#fdca26"
             ],
             [
              1,
              "#f0f921"
             ]
            ],
            "type": "histogram2d"
           }
          ],
          "histogram2dcontour": [
           {
            "colorbar": {
             "outlinewidth": 0,
             "ticks": ""
            },
            "colorscale": [
             [
              0,
              "#0d0887"
             ],
             [
              0.1111111111111111,
              "#46039f"
             ],
             [
              0.2222222222222222,
              "#7201a8"
             ],
             [
              0.3333333333333333,
              "#9c179e"
             ],
             [
              0.4444444444444444,
              "#bd3786"
             ],
             [
              0.5555555555555556,
              "#d8576b"
             ],
             [
              0.6666666666666666,
              "#ed7953"
             ],
             [
              0.7777777777777778,
              "#fb9f3a"
             ],
             [
              0.8888888888888888,
              "#fdca26"
             ],
             [
              1,
              "#f0f921"
             ]
            ],
            "type": "histogram2dcontour"
           }
          ],
          "mesh3d": [
           {
            "colorbar": {
             "outlinewidth": 0,
             "ticks": ""
            },
            "type": "mesh3d"
           }
          ],
          "parcoords": [
           {
            "line": {
             "colorbar": {
              "outlinewidth": 0,
              "ticks": ""
             }
            },
            "type": "parcoords"
           }
          ],
          "pie": [
           {
            "automargin": true,
            "type": "pie"
           }
          ],
          "scatter": [
           {
            "fillpattern": {
             "fillmode": "overlay",
             "size": 10,
             "solidity": 0.2
            },
            "type": "scatter"
           }
          ],
          "scatter3d": [
           {
            "line": {
             "colorbar": {
              "outlinewidth": 0,
              "ticks": ""
             }
            },
            "marker": {
             "colorbar": {
              "outlinewidth": 0,
              "ticks": ""
             }
            },
            "type": "scatter3d"
           }
          ],
          "scattercarpet": [
           {
            "marker": {
             "colorbar": {
              "outlinewidth": 0,
              "ticks": ""
             }
            },
            "type": "scattercarpet"
           }
          ],
          "scattergeo": [
           {
            "marker": {
             "colorbar": {
              "outlinewidth": 0,
              "ticks": ""
             }
            },
            "type": "scattergeo"
           }
          ],
          "scattergl": [
           {
            "marker": {
             "colorbar": {
              "outlinewidth": 0,
              "ticks": ""
             }
            },
            "type": "scattergl"
           }
          ],
          "scattermapbox": [
           {
            "marker": {
             "colorbar": {
              "outlinewidth": 0,
              "ticks": ""
             }
            },
            "type": "scattermapbox"
           }
          ],
          "scatterpolar": [
           {
            "marker": {
             "colorbar": {
              "outlinewidth": 0,
              "ticks": ""
             }
            },
            "type": "scatterpolar"
           }
          ],
          "scatterpolargl": [
           {
            "marker": {
             "colorbar": {
              "outlinewidth": 0,
              "ticks": ""
             }
            },
            "type": "scatterpolargl"
           }
          ],
          "scatterternary": [
           {
            "marker": {
             "colorbar": {
              "outlinewidth": 0,
              "ticks": ""
             }
            },
            "type": "scatterternary"
           }
          ],
          "surface": [
           {
            "colorbar": {
             "outlinewidth": 0,
             "ticks": ""
            },
            "colorscale": [
             [
              0,
              "#0d0887"
             ],
             [
              0.1111111111111111,
              "#46039f"
             ],
             [
              0.2222222222222222,
              "#7201a8"
             ],
             [
              0.3333333333333333,
              "#9c179e"
             ],
             [
              0.4444444444444444,
              "#bd3786"
             ],
             [
              0.5555555555555556,
              "#d8576b"
             ],
             [
              0.6666666666666666,
              "#ed7953"
             ],
             [
              0.7777777777777778,
              "#fb9f3a"
             ],
             [
              0.8888888888888888,
              "#fdca26"
             ],
             [
              1,
              "#f0f921"
             ]
            ],
            "type": "surface"
           }
          ],
          "table": [
           {
            "cells": {
             "fill": {
              "color": "#EBF0F8"
             },
             "line": {
              "color": "white"
             }
            },
            "header": {
             "fill": {
              "color": "#C8D4E3"
             },
             "line": {
              "color": "white"
             }
            },
            "type": "table"
           }
          ]
         },
         "layout": {
          "annotationdefaults": {
           "arrowcolor": "#2a3f5f",
           "arrowhead": 0,
           "arrowwidth": 1
          },
          "autotypenumbers": "strict",
          "coloraxis": {
           "colorbar": {
            "outlinewidth": 0,
            "ticks": ""
           }
          },
          "colorscale": {
           "diverging": [
            [
             0,
             "#8e0152"
            ],
            [
             0.1,
             "#c51b7d"
            ],
            [
             0.2,
             "#de77ae"
            ],
            [
             0.3,
             "#f1b6da"
            ],
            [
             0.4,
             "#fde0ef"
            ],
            [
             0.5,
             "#f7f7f7"
            ],
            [
             0.6,
             "#e6f5d0"
            ],
            [
             0.7,
             "#b8e186"
            ],
            [
             0.8,
             "#7fbc41"
            ],
            [
             0.9,
             "#4d9221"
            ],
            [
             1,
             "#276419"
            ]
           ],
           "sequential": [
            [
             0,
             "#0d0887"
            ],
            [
             0.1111111111111111,
             "#46039f"
            ],
            [
             0.2222222222222222,
             "#7201a8"
            ],
            [
             0.3333333333333333,
             "#9c179e"
            ],
            [
             0.4444444444444444,
             "#bd3786"
            ],
            [
             0.5555555555555556,
             "#d8576b"
            ],
            [
             0.6666666666666666,
             "#ed7953"
            ],
            [
             0.7777777777777778,
             "#fb9f3a"
            ],
            [
             0.8888888888888888,
             "#fdca26"
            ],
            [
             1,
             "#f0f921"
            ]
           ],
           "sequentialminus": [
            [
             0,
             "#0d0887"
            ],
            [
             0.1111111111111111,
             "#46039f"
            ],
            [
             0.2222222222222222,
             "#7201a8"
            ],
            [
             0.3333333333333333,
             "#9c179e"
            ],
            [
             0.4444444444444444,
             "#bd3786"
            ],
            [
             0.5555555555555556,
             "#d8576b"
            ],
            [
             0.6666666666666666,
             "#ed7953"
            ],
            [
             0.7777777777777778,
             "#fb9f3a"
            ],
            [
             0.8888888888888888,
             "#fdca26"
            ],
            [
             1,
             "#f0f921"
            ]
           ]
          },
          "colorway": [
           "#636efa",
           "#EF553B",
           "#00cc96",
           "#ab63fa",
           "#FFA15A",
           "#19d3f3",
           "#FF6692",
           "#B6E880",
           "#FF97FF",
           "#FECB52"
          ],
          "font": {
           "color": "#2a3f5f"
          },
          "geo": {
           "bgcolor": "white",
           "lakecolor": "white",
           "landcolor": "#E5ECF6",
           "showlakes": true,
           "showland": true,
           "subunitcolor": "white"
          },
          "hoverlabel": {
           "align": "left"
          },
          "hovermode": "closest",
          "mapbox": {
           "style": "light"
          },
          "paper_bgcolor": "white",
          "plot_bgcolor": "#E5ECF6",
          "polar": {
           "angularaxis": {
            "gridcolor": "white",
            "linecolor": "white",
            "ticks": ""
           },
           "bgcolor": "#E5ECF6",
           "radialaxis": {
            "gridcolor": "white",
            "linecolor": "white",
            "ticks": ""
           }
          },
          "scene": {
           "xaxis": {
            "backgroundcolor": "#E5ECF6",
            "gridcolor": "white",
            "gridwidth": 2,
            "linecolor": "white",
            "showbackground": true,
            "ticks": "",
            "zerolinecolor": "white"
           },
           "yaxis": {
            "backgroundcolor": "#E5ECF6",
            "gridcolor": "white",
            "gridwidth": 2,
            "linecolor": "white",
            "showbackground": true,
            "ticks": "",
            "zerolinecolor": "white"
           },
           "zaxis": {
            "backgroundcolor": "#E5ECF6",
            "gridcolor": "white",
            "gridwidth": 2,
            "linecolor": "white",
            "showbackground": true,
            "ticks": "",
            "zerolinecolor": "white"
           }
          },
          "shapedefaults": {
           "line": {
            "color": "#2a3f5f"
           }
          },
          "ternary": {
           "aaxis": {
            "gridcolor": "white",
            "linecolor": "white",
            "ticks": ""
           },
           "baxis": {
            "gridcolor": "white",
            "linecolor": "white",
            "ticks": ""
           },
           "bgcolor": "#E5ECF6",
           "caxis": {
            "gridcolor": "white",
            "linecolor": "white",
            "ticks": ""
           }
          },
          "title": {
           "x": 0.05
          },
          "xaxis": {
           "automargin": true,
           "gridcolor": "white",
           "linecolor": "white",
           "ticks": "",
           "title": {
            "standoff": 15
           },
           "zerolinecolor": "white",
           "zerolinewidth": 2
          },
          "yaxis": {
           "automargin": true,
           "gridcolor": "white",
           "linecolor": "white",
           "ticks": "",
           "title": {
            "standoff": 15
           },
           "zerolinecolor": "white",
           "zerolinewidth": 2
          }
         }
        },
        "title": {
         "text": "The Comparison of the Presence of Soap in Washing Hands between Refugee Camps and Cities in Tanzania"
        },
        "xaxis": {
         "title": {
          "text": "Whether Soap was Visibly Present in Hand Washing Station in House"
         }
        },
        "yaxis": {
         "title": {
          "text": "Percent Frequency"
         }
        }
       }
      }
     },
     "metadata": {},
     "output_type": "display_data"
    }
   ],
   "source": [
    "import plotly.graph_objects as go\n",
    "\n",
    "trace1 = go.Bar(x=frequency_df[\"Was soap visibly present to wash hands?\"], y=frequency_df[\"Percent Frequency\"], name='Northern Tanzania')\n",
    "trace2 = go.Bar(x=frequency_df1[\"Was soap visibly present to wash hands?\"], y=frequency_df1[\"Percent Frequency\"], name='Refugee Camp 1: Nduta')\n",
    "trace3 = go.Bar(x=frequency_df2[\"Was soap visibly present to wash hands?\"], y=frequency_df2[\"Percent Frequency\"], name='Refugee Camp 2: Nyagurusu')\n",
    "\n",
    "\n",
    "layout = go.Layout(title='The Comparison of the Presence of Soap in Washing Hands between Refugee Camps and Cities in Tanzania', xaxis_title='Whether Soap was Visibly Present in Hand Washing Station in House', yaxis_title='Percent Frequency', barmode='group')\n",
    "\n",
    "# Create a figure\n",
    "fig = go.Figure(data=[trace1, trace2,trace3], layout=layout)\n",
    "\n",
    "# Show plot\n",
    "fig.show()"
   ]
  }
 ],
 "metadata": {
  "kernelspec": {
   "display_name": "Python 3",
   "language": "python",
   "name": "python3"
  },
  "language_info": {
   "codemirror_mode": {
    "name": "ipython",
    "version": 3
   },
   "file_extension": ".py",
   "mimetype": "text/x-python",
   "name": "python",
   "nbconvert_exporter": "python",
   "pygments_lexer": "ipython3",
   "version": "3.9.6"
  }
 },
 "nbformat": 4,
 "nbformat_minor": 2
}
