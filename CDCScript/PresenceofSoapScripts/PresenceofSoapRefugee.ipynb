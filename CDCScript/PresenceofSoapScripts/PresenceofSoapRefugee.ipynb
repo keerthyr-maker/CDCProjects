{
 "cells": [
  {
   "cell_type": "markdown",
   "metadata": {},
   "source": [
    "Reading Data into Python for Refugee Camp 1"
   ]
  },
  {
   "cell_type": "code",
   "execution_count": null,
   "metadata": {},
   "outputs": [],
   "source": [
    "df = pd.read_csv(\"/Users/keerthyrangan/Downloads/Nduta.csv\")\n"
   ]
  },
  {
   "cell_type": "markdown",
   "metadata": {},
   "source": [
    "Querying the Data and Finding Frequencies for Refugee Camp 1"
   ]
  },
  {
   "cell_type": "code",
   "execution_count": null,
   "metadata": {},
   "outputs": [],
   "source": [
    "variables = [\"presencesoap\"]\n",
    "\n",
    "new_df1 = df[variables]\n",
    "\n",
    "new_df1\n",
    "\n",
    "\n",
    "new_df1[\"Was soap visibly present to wash hands?\"] = new_df1[\"presencesoap\"]\n",
    "\n",
    "\n",
    "frequency_df1 = new_df1.groupby(new_df1['Was soap visibly present to wash hands?']).size().reset_index(name='Frequency')\n",
    "frequency_df1['Percent Frequency'] = (frequency_df1['Frequency'] / len(new_df1)) * 100\n",
    "\n",
    "frequency_df1\n"
   ]
  },
  {
   "cell_type": "markdown",
   "metadata": {},
   "source": [
    "Reading Data into Python for Refugee Camp 2"
   ]
  },
  {
   "cell_type": "code",
   "execution_count": null,
   "metadata": {},
   "outputs": [],
   "source": [
    "df2 = pd.read_csv(\"/Users/keerthyrangan/Downloads/Nyarugusu Burundi - Anonymized Data.csv\")\n"
   ]
  },
  {
   "cell_type": "markdown",
   "metadata": {},
   "source": [
    "Querying the Data and Finding Frequencies for Refugee Camp 1"
   ]
  },
  {
   "cell_type": "code",
   "execution_count": null,
   "metadata": {},
   "outputs": [],
   "source": [
    "\n",
    "\n",
    "df2[\"Was soap visibly present to wash hands?\"] = df2[\"presencesoap\"]\n",
    "\n",
    "\n",
    "\n",
    "frequency_df2 = df2.groupby(df2['Was soap visibly present to wash hands?']).size().reset_index(name='Frequency')\n",
    "frequency_df2['Percent Frequency'] = (frequency_df2['Frequency'] / len(df2)) * 100\n",
    "\n",
    "frequency_df2"
   ]
  }
 ],
 "metadata": {
  "language_info": {
   "name": "python"
  }
 },
 "nbformat": 4,
 "nbformat_minor": 2
}
