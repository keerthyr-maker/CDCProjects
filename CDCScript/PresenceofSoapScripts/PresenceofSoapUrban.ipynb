{
 "cells": [
  {
   "cell_type": "code",
   "execution_count": null,
   "metadata": {},
   "outputs": [],
   "source": [
    "import pandas as pd"
   ]
  },
  {
   "cell_type": "markdown",
   "metadata": {},
   "source": [
    "Reading Data into Python"
   ]
  },
  {
   "cell_type": "code",
   "execution_count": null,
   "metadata": {},
   "outputs": [],
   "source": [
    "data = pd.read_stata(\"TZHR82FL.DTA\")\n",
    "\n",
    "data"
   ]
  },
  {
   "cell_type": "markdown",
   "metadata": {},
   "source": [
    "Querying the Data and Renaming Variables"
   ]
  },
  {
   "cell_type": "code",
   "execution_count": null,
   "metadata": {},
   "outputs": [],
   "source": [
    "\n",
    "variables_to_keep = ['hv232',\"hhid\",\"hv024\"]\n",
    "\n",
    "\n",
    "new_df = data[variables_to_keep]\n",
    "\n",
    "new_df[\"Household ID\"] = new_df[\"hhid\"]\n",
    "new_df[\"Region of residence\"] = new_df[\"hv024\"]\n",
    "new_df[\"Was soap visibly present to wash hands?\"] = new_df[\"hv232\"]\n",
    "\n",
    "new_df = new_df.drop(columns=[\"hhid\",\"hv024\",\"hv232\"])\n",
    "new_df = new_df.dropna(subset=[\"Was soap visibly present to wash hands?\",\"Household ID\",\"Region of residence\"])\n",
    "\n",
    "new_df\n"
   ]
  },
  {
   "cell_type": "markdown",
   "metadata": {},
   "source": [
    "Cleaning the Tanzania Urban Data for Data on the Presence of Soap"
   ]
  },
  {
   "cell_type": "code",
   "execution_count": null,
   "metadata": {},
   "outputs": [],
   "source": [
    "regions = new_df[(new_df['Region of residence'] == 'geita') | (new_df['Region of residence'] == 'kigoma')] #Chose these two regions because they had the most data in the dataset \n",
    "#and were spread out in Tanzania\n",
    "\n",
    "\n",
    "frequency_df = regions.groupby(regions['Was soap visibly present to wash hands?']).size().reset_index(name='Frequency')\n",
    "\n",
    "total_responses = len(regions)\n",
    "frequency_df['Percent Frequency'] = (frequency_df['Frequency'] / total_responses) * 100\n",
    "\n",
    "frequency_df[\"Was soap visibly present to wash hands?\"] = frequency_df[\"Was soap visibly present to wash hands?\"].replace(\"no\",\"No\")\n",
    "frequency_df[\"Was soap visibly present to wash hands?\"] = frequency_df[\"Was soap visibly present to wash hands?\"].replace(\"yes\",\"Yes\")\n",
    "                          \n",
    "frequency_df"
   ]
  }
 ],
 "metadata": {
  "language_info": {
   "name": "python"
  }
 },
 "nbformat": 4,
 "nbformat_minor": 2
}
